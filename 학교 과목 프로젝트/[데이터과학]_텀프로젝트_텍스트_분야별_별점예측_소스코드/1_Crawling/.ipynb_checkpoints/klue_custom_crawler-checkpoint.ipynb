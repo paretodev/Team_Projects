{
 "cells": [
  {
   "cell_type": "markdown",
   "metadata": {
    "colab_type": "text",
    "id": "zsmx-T4nrEZ0"
   },
   "source": [
    "# Kuklue 고려대학교 학생 강의 평가 리뷰 사이트 크롤러"
   ]
  },
  {
   "cell_type": "markdown",
   "metadata": {
    "colab_type": "text",
    "id": "hBqIYhDTrEZ3"
   },
   "source": [
    "## 1단계. 필요한 모듈 임포트"
   ]
  },
  {
   "cell_type": "code",
   "execution_count": null,
   "metadata": {
    "colab": {
     "base_uri": "https://localhost:8080/",
     "height": 368
    },
    "colab_type": "code",
    "executionInfo": {
     "elapsed": 1386,
     "status": "error",
     "timestamp": 1582119555223,
     "user": {
      "displayName": "‍한석희[ 학부재학 / 영어영문학과 ]",
      "photoUrl": "",
      "userId": "03114457600446733539"
     },
     "user_tz": -540
    },
    "id": "V5vuYZXSrEZ5",
    "outputId": "57a3f691-5a3c-4669-d597-2a1e5e0150a6"
   },
   "outputs": [],
   "source": [
    "# 1. 크롬 드라이버 : 웹 사이트가 인증을 필요로하여 사용, 주소는 커스텀\n",
    "from selenium import webdriver\n",
    "\n",
    "#     1). 커스텀 설정\n",
    "def getUserDriver():\n",
    "    userDriverAddress = input(\"chromedriver를 포함한 디렉토리를 입력해주세요 : \")\n",
    "    if userDriverAddress :\n",
    "        return userDriverAddress\n",
    "    else :\n",
    "        address = './chromedriver'\n",
    "        return address\n",
    "    \n",
    "userDriverAddress = getUserDriver()\n",
    "driver = webdriver.Chrome(userDriverAddress)\n",
    "# import selenium.webdriver as webdriver\n",
    "# import selenium.webdriver.support.ui as ui\n",
    "# from selenium.webdriver.common.keys import Keys\n",
    "\n",
    "# 2. beautifulsoup4 : 웹 html 파싱하여 타겟 요소에 접근 후 정보 추출.\n",
    "import bs4\n",
    "\n",
    "# 3. time : chrome driver가 정보를 로딩할 때, 정보가 다 로딩될 때 까지 기다리는 시간 설정.\n",
    "from time import sleep\n",
    "\n",
    "# 4. csv : csv 파일 입 출력 (with open 기억!!)\n",
    "import csv"
   ]
  },
  {
   "cell_type": "markdown",
   "metadata": {
    "colab_type": "text",
    "id": "gmqKe81KrEaA"
   },
   "source": [
    "## 2단계. 열린 테스트 드라이버에 alert control extension 설치 "
   ]
  },
  {
   "cell_type": "markdown",
   "metadata": {
    "colab_type": "text",
    "id": "jKxi57mTrEaC"
   },
   "source": [
    "<h2 style = 'color : crimson'> 별도로 크롬 브라우저가 열렸을 것입니다. !! 'alert control'을 다운로드 해주세요.<br>예기치 못한 알림으로 인해 크롤러가 멈출 수 있습니다. <br>alert control 다운 후, 경고창 알림창을 모두 차단으로 설정해주세요. </h2>"
   ]
  },
  {
   "cell_type": "markdown",
   "metadata": {
    "colab_type": "text",
    "id": "NBvRxSuSrEaD"
   },
   "source": [
    "![Screen%20Shot%202020-02-17%20at%2011.42.09.png](attachment:Screen%20Shot%202020-02-17%20at%2011.42.09.png)"
   ]
  },
  {
   "cell_type": "markdown",
   "metadata": {
    "colab_type": "text",
    "id": "JWtkyRp5rEaE"
   },
   "source": [
    "## 3단계. 웹사이트 사용자 인증"
   ]
  },
  {
   "cell_type": "markdown",
   "metadata": {
    "colab_type": "text",
    "id": "432-cVo-rEaF"
   },
   "source": [
    "크롤러 유저가 커스텀으로 자신의 아이디와 비번을 입력하여 이용가능"
   ]
  },
  {
   "cell_type": "code",
   "execution_count": null,
   "metadata": {
    "colab": {},
    "colab_type": "code",
    "id": "Za3rwvQrrEaI"
   },
   "outputs": [],
   "source": [
    "# 2-1. 크롤러 아이디 비번 받기\n",
    "crawlerId = input(\"please put your id : \")\n",
    "crawlerPw = input(\"please put your password : \")\n",
    "\n",
    "# 2-2. 드라이버에서 로그인\n",
    "klue_url = \"http://klue.kr/\"\n",
    "driver.get(klue_url)\n",
    "#            1).로그인 버튼 누르기\n",
    "driver.find_element_by_css_selector(\"body > app-root > menubar > div > ul > menubar-guest > span:nth-child(2)\").click()\n",
    "#            2).아이디 입력부분 클릭 후 입력\n",
    "i_d = driver.find_element_by_css_selector(\"body > app-root > app-modal > div > div > div > modal-contents > div > modal-login > input:nth-child(2)\")\n",
    "i_d.send_keys(crawlerId)\n",
    "#            3).패스워드 입력부분 클릭 후 입력\n",
    "password = driver.find_element_by_css_selector(\"body > app-root > app-modal > div > div > div > modal-contents > div > modal-login > input:nth-child(3)\")\n",
    "password.send_keys(crawlerPw)\n",
    "#            4).로그인 버튼 클릭\n",
    "driver.find_element_by_css_selector('body > app-root > app-modal > div > div > div > modal-contents > div > modal-login > button').click()"
   ]
  },
  {
   "cell_type": "markdown",
   "metadata": {
    "colab_type": "text",
    "id": "f3pruA5yrEaO"
   },
   "source": [
    "## 4단계. 미니배치 만들기 모듈( pc, laptop에서 크롤링하는 상황 가정 ) - 유저 커스텀 갯 수를 단위로 크롤링 미니배치 형성"
   ]
  },
  {
   "cell_type": "markdown",
   "metadata": {
    "colab_type": "text",
    "id": "efrQfKFnrEaQ"
   },
   "source": [
    "* 노트북의 과열현상, 예기치 못한 크롤링 에러를 조기에 발견하기 위해 미니배치를 만들어 크롤러에 넣기 위한 단계입니다.\n",
    "* 유저에게 크롤링을 시작할 강의ID ( ex). 4000번 )와 크롤링을 끝낼 강의 ID를 받아 csv파일 하나당 원하는 갯수를 단위로 배치를 형성하였습니다.\n",
    "\n",
    "* 고려대학교 학생들이 사용하는 강의 후기 싸이트 [klue.kr](http://klue.kr)은 강의 하나당 url을 하나 할당하며, 주소의 조합은 다음과 같은 ' [http://klue.kr/lecture/](http://klue.kr/lecture/%7B%7D){ lecture ID } ' 의 형태로 일관성 있게 구성되어 있습니다.  [http://klue.kr/lecture/](http://klue.kr/lecture/%7B%7D) + 강의ID 조합을 만들되, 원하는 갯수마다 한번 알고리즘을 돌리기 위해 minibatch를 range객체를 이용해 미리 구성해놓았습니다."
   ]
  },
  {
   "cell_type": "code",
   "execution_count": null,
   "metadata": {
    "colab": {},
    "colab_type": "code",
    "id": "rhmhLjZ8rEaR",
    "scrolled": false
   },
   "outputs": [],
   "source": [
    "# module : rangeMaker()\n",
    "# no input : 호출 중 시작점과 끝점을 받음\n",
    "# output : 크롤링을 할 미니배치 범위를 range객체가 담긴 리스트로 받음\n",
    "\n",
    "def rangeMaker():\n",
    "    \n",
    "    # 1. 유저 커스텀 : 시작점, 끝점, 파일당 크롤링 페이지 갯수 받기\n",
    "    startId = int(input(\"몇 번 페이지부터 크롤링 하실 건가요? ( 자연수입니다 ^^ 아시죠 ? ) \"))\n",
    "    endId = int(input(\"몇 번 페이지까지 크롤링 하실 건가요? ( 자연수입니다 ^^ 아시죠? ) \"))\n",
    "    fileCutUnit = int(input(\"한 csv파일당 몇 페이지씩 크롤링 하실 건가요? ( 자연수입니다 ^^ 아시죠? ) \"))\n",
    "    \n",
    "    # 2. 시작점부터 끝점까지 1500개 들이의 리스트로 나누어서 미니배치 구성하기\n",
    "    targetLectureIds = [i for i in range(startId, endId+1)]\n",
    "    rangeEnds = targetLectureIds[::fileCutUnit]\n",
    "    if ( targetLectureIds[-1] == rangeEnds[-1] ) :\n",
    "        pass\n",
    "    else :\n",
    "        rangeEnds.append(targetLectureIds[-1])\n",
    "    lastIndex = len(rangeEnds) - 1\n",
    "    crawlRanges = []\n",
    "    for i in range(0, lastIndex):\n",
    "        crawlRanges.append(range(rangeEnds[i], rangeEnds[i+1]))\n",
    "    \n",
    "    # 3. range 객체가 담긴 리스트 리턴\n",
    "    return crawlRanges, fileCutUnit\n",
    "\n",
    "\n",
    "# 모듈 테스트\n",
    "testMiniBatch, fileCutUnit = rangeMaker()\n",
    "print( \"The variable 'testMiniBatch' is set as :\", testMiniBatch )"
   ]
  },
  {
   "cell_type": "markdown",
   "metadata": {
    "colab_type": "text",
    "id": "eRYbkAZlrEaV"
   },
   "source": [
    "## 5단계. 유저가 정의한 배치를 iterate하면서, ( 강의ID, 강의 5항목 별점(리스트), 리뷰 텍스트 ) 정보를 크롤링하여 미니 배치마다 각 1개의 csv파일 작성"
   ]
  },
  {
   "cell_type": "markdown",
   "metadata": {
    "colab_type": "text",
    "id": "LJpFSezyrEaX"
   },
   "source": [
    "#### 보완점\n",
    "1. 유저가 입력한 크롤링 미니배치의 단위에 맞게 => 크롤링을 진행 후 미니 배치별 csv파일을 만들었습니다.\n",
    "2. 유저에게 중간 중간 크롤링의 재개 여부와 새로 형성된 파일의 완성도에 대해 묻고, 크롤링을 중단하거나 재개할 수 있는 옵션을 주어, 진행 시간이 긴 크롤링 작업이 오류 있는 채로 계속 진행되지 않게 설정하였습니다.\n",
    "3. f.close() 누락의 위험성 방지를 위해 파일을 with문으로 오픈하였습니다."
   ]
  },
  {
   "cell_type": "code",
   "execution_count": null,
   "metadata": {
    "colab": {},
    "colab_type": "code",
    "id": "EvjCpilcrEaY"
   },
   "outputs": [],
   "source": [
    "# 위에서 유저가 입력한 구간을 커스텀 페이지 수단위로 나눈 미니배치별로\n",
    "# 크롤링 후 1개씩 csv파일 'reviewScoreDatasetNth.csv' 를 작성.\n",
    "for index, aMiniBatch in enumerate(testMiniBatch) :\n",
    "    \n",
    "    # 1. 미니배치 하나에 대해 - 파일을 오픈하고,배치에 해당하는 주소들을 돌면서 별점, 리뷰 정보들을 그 미니배치에 할당된 csv에 작성.\n",
    "    with open('reviewScoreDataset{}.csv'.format(index+1), 'w', encoding='utf-8', newline='') as f :\n",
    "        \n",
    "        wr = csv.writer(f)\n",
    "        for i in aMiniBatch:\n",
    "\n",
    "            lec_url = 'http://klue.kr/lecture/{}'.format(i)\n",
    "            driver.get(lec_url)\n",
    "            driver.implicitly_wait(3)\n",
    "\n",
    "        # 1) csv파일에 강의 인덱스로 사용하기 위해 i를 lec(ture)_num(ber) 변수로 저장. \n",
    "            lec_num = i\n",
    "\n",
    "        # 2) html을 가져와 파싱하기\n",
    "            html = driver.page_source # get whole html text\n",
    "            soup = bs4.BeautifulSoup(html)\n",
    "            review_boxes_list = soup.find_all('div', {'class':'lecture-detail-content'})\n",
    "\n",
    "        # 3) 사람들의 강의 평가 데이터가 없으면, 미니배치 다음 강의로 continue\n",
    "            if len(review_boxes_list) == 0 : \n",
    "                print('no contents at {}th page.'.format(lec_num))\n",
    "                continue\n",
    "\n",
    "        # 4) 평가 데이터가 있으면 밑의 블록을 진행 - 리뷰 박스 한 개(밑의 *1 참고)마다 다음을 진행\n",
    "            else :\n",
    "                for i in review_boxes_list:\n",
    "                    \n",
    "                    # 리뷰 텍스트들 추출\n",
    "                    rev_str = i.find('div', {'class':'lecture-eval-content-context'}).text \n",
    "\n",
    "                    # 5가지 항목별 스코어 추출\n",
    "                    five_area_scores = []\n",
    "                    htmls_for_five_scores = (i.find_all('div', {'class':'slider-klue-outer'}))[1:6]\n",
    "\n",
    "                    # 5가지 항목별 별점이 나온 부분에 대하여\n",
    "                    for i in htmls_for_five_scores :\n",
    "\n",
    "                        string = i.get('style')\n",
    "                        lst = string.split(';')\n",
    "                        the_string = lst[1]\n",
    "\n",
    "                        #1). 별점이 %형태로 표시되어있을 때, 100% 80% ( 신 버젼 UX )\n",
    "                        if the_string.endswith('%'): \n",
    "                            int_score = int(the_string[-4:-1:1])//20\n",
    "                            five_area_scores.append(int_score)\n",
    "                            \n",
    "                        #2). # 스코어가 픽셀의 형태로 표시되었을 때 104px, 130px. ( 구 버젼 UX )\n",
    "                        else:  \n",
    "                            int_score = int(the_string[-5:-2:1])//26\n",
    "                            five_area_scores.append(int_score)\n",
    "                            \n",
    "\n",
    "                    # 리뷰 상자 하나마다 csv파일에 작성\n",
    "                    wr.writerow([lec_num, five_area_scores, rev_str])\n",
    "            \n",
    "        #with문 종료\n",
    "    \n",
    "    # 2. user에게 기존 csv파일에 대한 점검을 요청하고,\n",
    "    # 다음 미니배치로 계속 진행할지 물어보기\n",
    "    print() \n",
    "    userKeepAnswer = input(\"방금 완성된 파일 reviewScoreDataset{}.csv이 의도대로 만들어졌는지 확인해주세요.\\n계속 크롤링하기를 원하시나요? [y]/n ( 종료를 원하시면 n키를 입력해주세요. )\".format(index+1))\n",
    "    if userKeepAnswer == \"n\":\n",
    "        print()\n",
    "        print(\"크롤링이 완료되었습니다.\")\n",
    "        print(\"데이터 셋이 {}개 단위로 {}개 완성되었습니다.\".format( fileCutUnit, (index + 1) ) )\n",
    "        \n",
    "        break\n",
    "\n",
    "    "
   ]
  }
 ],
 "metadata": {
  "colab": {
   "name": "klue_custom_crawler.ipynb",
   "provenance": []
  },
  "kernelspec": {
   "display_name": "Python 3",
   "language": "python",
   "name": "python3"
  },
  "language_info": {
   "codemirror_mode": {
    "name": "ipython",
    "version": 3
   },
   "file_extension": ".py",
   "mimetype": "text/x-python",
   "name": "python",
   "nbconvert_exporter": "python",
   "pygments_lexer": "ipython3",
   "version": "3.7.1"
  }
 },
 "nbformat": 4,
 "nbformat_minor": 1
}
