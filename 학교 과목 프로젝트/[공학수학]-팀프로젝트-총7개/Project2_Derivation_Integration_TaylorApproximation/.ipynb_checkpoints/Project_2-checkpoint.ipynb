{
 "cells": [
  {
   "cell_type": "markdown",
   "metadata": {},
   "source": [
    "# Engineering Math Project 2 "
   ]
  },
  {
   "cell_type": "markdown",
   "metadata": {},
   "source": [
    "<img src = \"Screen%20Shot%202019-06-21%20at%2011.56.57%20AM.png\">"
   ]
  },
  {
   "cell_type": "code",
   "execution_count": 1,
   "metadata": {},
   "outputs": [
    {
     "name": "stdout",
     "output_type": "stream",
     "text": [
      "Created file '/Users/sucky/Desktop/Git_Projects/19-1R-EM-TP/Project_2/derive.m'.\n"
     ]
    }
   ],
   "source": [
    "%%file derive.m\n",
    "\n",
    "% function_name : derive\n",
    "% Assignment    : Assignment2, Part1\n",
    "% Explanation   : finds derivative of a given function in given x values\n",
    "% Author        : 2013130874 Han Seok Hee\n",
    "%               : 2017130776 CHUNG Hyelee\n",
    "%               : 2018320177 Hwang Jongho\n",
    "\n",
    "function [derivative] = derive(function_handle, x_values, h)\n",
    "%       DERIVATIVE implements numerical derivation on x values.\n",
    "%       The third input argument is optional.\n",
    "\n",
    "% set the default value of h if not supplied\n",
    "if nargin == 2\n",
    "    h = 1e-5;\n",
    "end\n",
    "\n",
    "% numerical approximation of derivation on x values\n",
    "derivative = (function_handle(x_values+h)-function_handle(x_values))/h;\n",
    "\n",
    "end"
   ]
  },
  {
   "cell_type": "code",
   "execution_count": 2,
   "metadata": {},
   "outputs": [
    {
     "data": {
      "image/png": "[encoded data removed]",
      "text/plain": [
       "<IPython.core.display.Image object>"
      ]
     },
     "metadata": {},
     "output_type": "display_data"
    }
   ],
   "source": [
    "% Script_Name   : testDerivative.m\n",
    "% Assignment    : Assignment2, Part1\n",
    "% Explanation   : Tests instances of function derivatives\n",
    "% Author        : 2013130874 Han Seok Hee\n",
    "%               : 2017130776 CHUNG Hyelee\n",
    "%               : 2018320177 Hwang Jongho\n",
    "\n",
    "% Clear workspace, output window and close all the figures.\n",
    "clc; clear all; close all;\n",
    "\n",
    "% given values\n",
    "h = 10.^[-1:-1:-14];\n",
    "x_values = [.001:.01:2];\n",
    "\n",
    "% three given functions to derivate\n",
    "f1 = @(x) x.^2;\n",
    "f2 = @(x) cos(x);\n",
    "f3 = @(x) sin(x)./x;\n",
    "\n",
    "% hand-derived derivatives of the given functions\n",
    "g1 = @(x) 2*x;\n",
    "g2 = @(x) -sin(x);\n",
    "g3 = @(x) (x.*cos(x) - sin(x))./(x.^2);\n",
    "\n",
    "% calculating SSEs for numerical derivation of f1\n",
    "sse1 = zeros(1,length(h));\n",
    "for i = 1:length(h)\n",
    "    output1 = derive(f1, x_values, h(i));\n",
    "    sse1(i) = sum((output1 - g1(x_values)).^2);\n",
    "end\n",
    "semilogy(sse1)   % plot sse1 with logarithmic scale\n",
    "hold on\n",
    "\n",
    "% calculating SSEs for numerical derivation of f2\n",
    "sse2 = zeros(1,length(h));\n",
    "for i = 1:length(h)\n",
    "    output2 = derive(f2, x_values, h(i));\n",
    "    sse2(i) = sum((output2 - g2(x_values)).^2);\n",
    "end\n",
    "semilogy(sse2)   % plot sse2 with logarithmic scale\n",
    "hold on\n",
    "\n",
    "% calculating SSEs for numerical derivation of f3\n",
    "sse3 = zeros(1,length(h));\n",
    "for i = 1:length(h)\n",
    "    output3 = derive(f3, x_values, h(i));\n",
    "    sse3(i) = sum((output3 - g3(x_values)).^2);\n",
    "end\n",
    "semilogy(sse3)   % plot sse3 with logarithmic scale\n",
    "hold on\n",
    "ylabel('SSE (log scale)')\n",
    "legend('x.^2 SSE','cos(x) SSE', 'sin(x)./x SSE')\n",
    "\n",
    "% Questions\n",
    "% 1. Why do the errors first go down and go up again ?\n",
    "% In the given functions cos(x), sin(x)./x, \n",
    "% for which computer uses taylor series of high degree polynomial to calculate the function value \n",
    "% and x^.2 function,\n",
    "% the numeric derivative calculation using (f(x+h) - f(x)) / h, starts to make error \n",
    "% in calculating numeric derivative compared to real derivative \n",
    "% since the h is 10^-10, \n",
    "% because the calculation begin to involve the values that are so small \n",
    "% that are out of the limit of the precision of 'matlab double' in the derivative calculation steps.\n",
    "\n",
    "\n",
    "% 2. Why do you think error curves for the three functions are different ?\n",
    "%\n",
    "% It is x.^2 > cos(x) > sin(x)./x to list the given functions in descending order of\n",
    "% SSE. A gap between the real derivative value and numeric derivative\n",
    "% is basically due to the fact that \n",
    "% the <real derivative> is the slope of tangent at a point, \n",
    "% whereas the <numeric derivative> is rather the slope between \n",
    "% the point and the point that is smallh away from that point. \n",
    "% And If the absolute value of curvature of a given function is higher, \n",
    "% the gap between tangent slope and the slope between smallh-distanced \n",
    "% points will be bigger. We thought this is why the above SSE value order\n",
    "% come out as above.\n",
    "\n"
   ]
  },
  {
   "cell_type": "markdown",
   "metadata": {},
   "source": [
    "<img src = \"Screen%20Shot%202019-06-21%20at%2011.57.32%20AM.png\">"
   ]
  },
  {
   "cell_type": "markdown",
   "metadata": {},
   "source": [
    "<img src = \"Screen%20Shot%202019-06-21%20at%2011.57.51%20AM.png\">"
   ]
  },
  {
   "cell_type": "code",
   "execution_count": 3,
   "metadata": {},
   "outputs": [
    {
     "name": "stdout",
     "output_type": "stream",
     "text": [
      "Created file '/Users/sucky/Desktop/Git_Projects/19-1R-EM-TP/Project_2/integrate.m'.\n"
     ]
    }
   ],
   "source": [
    "%%file integrate.m\n",
    "function [integral] = integrate(function_handle, x_values, h, type)\n",
    "    % Author : \n",
    "    % Han Seokhee(2013130874)\n",
    "    % Chung Hyelee(2017130776)\n",
    "    % Hwang Jongho(2018320177)\n",
    "    % Input : function handle, x values array, h, type of appoximation \n",
    "    % Output : integral values in array for each interval of x valuse.\n",
    "    % The third and the fourth input arguments are optional.\n",
    "\n",
    "% set h and type if they are not supplied\n",
    "if nargin == 2\n",
    "    h = 1e-5;\n",
    "    type = 'trapezoid';\n",
    "end\n",
    "if nargin == 3\n",
    "    % In case, we missed h and put type input into 3rd argu. variable.\n",
    "    % put it into 4th and set h as default.\n",
    "    if ischar(h)\n",
    "        type = h;\n",
    "        h = 1e-5;\n",
    "    else\n",
    "        type = 'trapezoid';\n",
    "    end\n",
    "end\n",
    "\n",
    "% guarantee that h is smaller than avg. difference of x_values array\n",
    "if h >= mean(diff(x_values)) % mean of adjacent difference in x_values array\n",
    "    error('You need a smaller h');\n",
    "end\n",
    "\n",
    "% trapezoidal method\n",
    "if strcmp(type, 'trapezoid')\n",
    "    area = zeros(1, length(x_values)-1);\n",
    "    for k = 1:length(x_values)-1\n",
    "        steps = x_values(k):h:x_values(k+1);\n",
    "        for m = 1:length(steps)-1\n",
    "            area(k) = area(k) + ...\n",
    "                (function_handle(steps(m))+function_handle(steps(m+1)))*h/2;\n",
    "        end\n",
    "    end\n",
    "\n",
    "% midpoint method\n",
    "elseif strcmp(type, 'midpoint')\n",
    "    area = zeros(1, length(x_values)-1);\n",
    "    for k = 1:length(x_values)-1\n",
    "        steps = x_values(k):h:x_values(k+1);\n",
    "        for m = 1:length(steps)-1\n",
    "            area(k) = area(k) + h*function_handle((steps(m+1)+steps(m))/2);\n",
    "        end\n",
    "    end\n",
    "end\n",
    "\n",
    "integral = area;\n",
    "\n",
    "end"
   ]
  },
  {
   "cell_type": "code",
   "execution_count": 4,
   "metadata": {},
   "outputs": [
    {
     "data": {
      "image/png": "[encoded data removed]",
      "text/plain": [
       "<IPython.core.display.Image object>"
      ]
     },
     "metadata": {},
     "output_type": "display_data"
    }
   ],
   "source": [
    "% testIntegrate.m\n",
    "    % Author : \n",
    "    % Han Seokhee(2013130874)\n",
    "    % Chung Hyelee(2017130776)\n",
    "    % Hwang Jongho(2018320177)\n",
    "    %\n",
    "    % It is a Script for testing integrate.m ( range by range integral approximator) \n",
    "    % and comparing SSE for trapezoidal and midpoint\n",
    "    % approximation.\n",
    "    \n",
    "    \n",
    "% Clear commandline, working memory.\n",
    "clc; clear all; close all;\n",
    "\n",
    "% Given conditons in the problem.\n",
    "h = 10.^[-2:-1:-7];\n",
    "x_values = [.001:.1:2];\n",
    "\n",
    "% Given function\n",
    "f = @(x) x.^2;\n",
    "\n",
    "% calculate precise value of the definite integral\n",
    "g = @(x) 1/3*x^3;\n",
    "jeokbun = zeros(1, length(x_values)-1);\n",
    "for i = 1:length(x_values)-1\n",
    "    jeokbun(i) = g(x_values(i+1)) - g(x_values(i)); \n",
    "end\n",
    "\n",
    "% numerical integration of f with trapezoidal method\n",
    "sse1 = zeros(1,length(h));\n",
    "for i = 1:length(h)\n",
    "    output1 = integrate(f, x_values, h(i), 'trapezoid');\n",
    "    sse1(i) = sum((output1 - jeokbun).^2);\n",
    "end\n",
    "semilogy(sse1)   % plot sse1 with logarithmic scale\n",
    "hold on\n",
    "\n",
    "% numerical integration of f with midpoint method\n",
    "sse2 = zeros(1,length(h));\n",
    "for i = 1:length(h)\n",
    "    output2 = integrate(f, x_values, h(i), 'midpoint');\n",
    "    sse2(i) = sum((output2 - jeokbun).^2);\n",
    "end\n",
    "semilogy(sse2)   % plot sse2 with logarithmic scale\n",
    "hold on\n",
    "legend('trapezoid','midpoint')\n",
    "ylabel('SSE (log scale)')\n",
    "\n",
    "% Questions\n",
    "% 1) What happens to the error curves as h becomes smaller and why?\n",
    "%       \n",
    "%       It gets smaller. It is because, having smaller h for approximation\n",
    "%       of integral means dividing the \"approximation blocks\" into more and\n",
    "%       smaller peaces of trapezoids or midpoint rectangles. By having more\n",
    "%       of those, underapproximated or overapproximated areas decreases \n",
    "%       when it is a \"curve\" that we are dealing with (in this case : x.^2) .\n",
    "%    \n",
    "%       \n",
    "% 2) Which integration method is better?\n",
    "%\n",
    "%       Midpoint method which is having lower SSE is better.\n",
    "%       We think the dominance in approximation comes from its each \"approximation blocks\"\n",
    "%       having less error for real area than trapezoidal approximation's\n",
    "%       blocks as it could offset the over approximated part with the under approximated part."
   ]
  },
  {
   "cell_type": "markdown",
   "metadata": {},
   "source": [
    "<img src = \"Screen%20Shot%202019-06-21%20at%2011.58.06%20AM.png\">"
   ]
  },
  {
   "cell_type": "code",
   "execution_count": 5,
   "metadata": {},
   "outputs": [
    {
     "name": "stdout",
     "output_type": "stream",
     "text": [
      "Created file '/Users/sucky/Desktop/Git_Projects/19-1R-EM-TP/Project_2/SI.m'.\n"
     ]
    }
   ],
   "source": [
    "%%file SI.m\n",
    "\n",
    "% Function Name : SI(.m)\n",
    "    % author :\n",
    "    % Han Seokhee(2013130874)\n",
    "    % Chung Hyelee(2017130776)\n",
    "    % Hwang Jongho(2018320177)\n",
    "% < Explantion for the function >\n",
    "    % 1). Approximate sin(x)/x function with Taylor series\n",
    "    % 2). Integrate the series term by term\n",
    "    \n",
    "function [sum] = SI(x,n)\n",
    "%SI implements integration using Taylor series.\n",
    "%   The second input argument is the degree of Taylor series\n",
    "%   and is optional.\n",
    "\n",
    "% set the value of n if it is not supplied\n",
    "if nargin == 1\n",
    "    n = 10;\n",
    "end\n",
    "\n",
    "% integrate the Taylor series of sin(x)/x term by term\n",
    "syms a;\n",
    "sum = 0;\n",
    "for p = 0:n/2\n",
    "    term = (-1)^p/factorial(2*p+1)*a^(2*p+1)/a;\n",
    "    sum = sum + int(term, x);    % term by term integration\n",
    "end\n",
    "\n",
    "% return the result of integration\n",
    "integral = sum;\n",
    "\n",
    "end\n"
   ]
  },
  {
   "cell_type": "code",
   "execution_count": 6,
   "metadata": {},
   "outputs": [
    {
     "data": {
      "image/png": "[encoded data removed]",
      "text/plain": [
       "<IPython.core.display.Image object>"
      ]
     },
     "metadata": {},
     "output_type": "display_data"
    }
   ],
   "source": [
    "% Script Name : integrateSinc(.m)\n",
    "    % author :\n",
    "    % Han Seokhee(2013130874)\n",
    "    % Chung Hyelee(2017130776)\n",
    "    % Hwang Jongho(2018320177)\n",
    "% < Explantion for the script >\n",
    "    % 1). Integrate sin(x)/x with trapezoidal method\n",
    "    % 2). Integrate sin(x)/x with Taylor series\n",
    "\n",
    "% Clear workspace, output window and close all the figures.\n",
    "clc; clear all; close all;\n",
    "\n",
    "h = 10.^[-2:-1:-7];\n",
    "% x_values = [.5:1:15];\n",
    "x = [0.5 15];\n",
    "n = [10:2:20];\n",
    "\n",
    "% given function\n",
    "f = @(x) sin(x)./x;\n",
    "\n",
    "% numerical integration of f with trapezoidal method\n",
    "output1 = zeros(length(x)-1, length(h));\n",
    "for i = 1:length(h)\n",
    "    output1(:,i) = integrate(f, x, h(i), 'trapezoid');\n",
    "end\n",
    "\n",
    "% integration of f using Taylor series\n",
    "output2 = [];\n",
    "for k = n\n",
    "    output2(1, end+1) = SI(x, k);\n",
    "end\n",
    "\n",
    "% visualize the result of each integration with scatter plots\n",
    "subplot(2,1,1)\n",
    "scatter(h, output1)\n",
    "title('trapezoidal method')\n",
    "subplot(2,1,2)\n",
    "scatter(n, output2)\n",
    "title('Taylor series')\n",
    "\n",
    "\n",
    "% Question\n",
    "% Which method would you choose and why?\n",
    "%       I would choose trapezoidal method. As you can see from the scatter\n",
    "%       plot, the result of integration using Taylor series varies a lot\n",
    "%       depending on the value of n, especially when the size of n is\n",
    "%       not big enough. On the other hand, integration by trapezoidal\n",
    "%       method brings about rather consistent result compared to Taylor\n",
    "%       series method."
   ]
  }
 ],
 "metadata": {
  "kernelspec": {
   "display_name": "Matlab",
   "language": "matlab",
   "name": "matlab"
  },
  "language_info": {
   "codemirror_mode": "octave",
   "file_extension": ".m",
   "help_links": [
    {
     "text": "MetaKernel Magics",
     "url": "https://github.com/calysto/metakernel/blob/master/metakernel/magics/README.md"
    }
   ],
   "mimetype": "text/x-octave",
   "name": "matlab",
   "version": "0.16.1"
  }
 },
 "nbformat": 4,
 "nbformat_minor": 2
}
