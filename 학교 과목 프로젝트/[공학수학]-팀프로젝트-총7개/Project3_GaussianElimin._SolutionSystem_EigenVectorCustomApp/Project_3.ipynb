{
 "cells": [
  {
   "cell_type": "markdown",
   "metadata": {},
   "source": [
    "# Project 3."
   ]
  },
  {
   "cell_type": "markdown",
   "metadata": {},
   "source": [
    "# Part 1."
   ]
  },
  {
   "cell_type": "markdown",
   "metadata": {},
   "source": [
    "<img src = \"Screen%20Shot%202019-06-21%20at%2012.17.12%20PM.png\">"
   ]
  },
  {
   "cell_type": "code",
   "execution_count": 8,
   "metadata": {},
   "outputs": [
    {
     "name": "stdout",
     "output_type": "stream",
     "text": [
      "Created file '/Users/sucky/Desktop/Git_Projects/19-1R-EM-TP/Project_3/GuessElimination.m'.\n"
     ]
    }
   ],
   "source": [
    "%%file GuessElimination.m\n",
    "function [x] = GaussElimination (A,b)\n",
    "% author : \n",
    "    % Han Seokhee(2013130874)\n",
    "    % Chung Hyelee(2017130776)\n",
    "    % Hwang Jongho(2018320177)\n",
    "% input : \n",
    "    % Square Matrix A, b(the same row size with A)\n",
    "% Output : \n",
    "    % Solution x in 'A*x = b'\n",
    "\n",
    "\n",
    "% 1. < Primary Error Handling >\n",
    "% Square? , Input dim. = Ouput dim.\n",
    "    [m,n] = size(A);\n",
    "    [s,~] = size(b);\n",
    "    if m ~= n\n",
    "        error('put square matrix for A variable.');\n",
    "    elseif m ~= s\n",
    "        error('the row size of A and b should match.');\n",
    "    end\n",
    "\n",
    "% 2. < FORWARD ELIMINATION >\n",
    "% 1). partial pivot(with 2nd_error_handling)\n",
    "% 2). Eliminate forward.\n",
    "\n",
    "    % Make the Augmented Matrix, call it 'AG_M'\n",
    "    AG_M = [A,b];\n",
    "    % Row By Row Iteration\n",
    "    for i=[1:m-1] % m is the row size of the input matrix A        \n",
    "        \n",
    "    % 1).PARTIAL PIVOTING (include Err. Handling)\n",
    "            % <1>. find maximum pivot's row\n",
    "                %#1 pivot advocate\n",
    "        pivot_advocate_array = AG_M(i:m, i);\n",
    "                %Error Handling : all zero for leading coefficient**\n",
    "        if sum(abs(pivot_advocate_array))==0\n",
    "            error('error occured : There is no non-zero leading coefficient at %s th column', num2str(i));\n",
    "        end\n",
    "                %#2 Take absolute for pivot advocate\n",
    "        pivot_advocate_array = abs(pivot_advocate_array);\n",
    "                %#3 get the index of the max abs pivot value excluding (i-1)rows\n",
    "        [~,index_of_max] = max(pivot_advocate_array);\n",
    "                %#4 Assign the index_of_max + i + (-1) to the pivot\n",
    "        index_of_max_pivot_row = index_of_max+i-1;\n",
    "            % <2>. switch the now i-th row with the index_of_max_pivot_row    \n",
    "        % iff, the row of max pivot isn't i th \n",
    "        if index_of_max_pivot_row ~= i\n",
    "        % switch row i and the max row\n",
    "            AG_M([i index_of_max_pivot_row],:)=AG_M([index_of_max_pivot_row i],:);\n",
    "        end\n",
    "        % Now, AG_M went through Partial Pivoting %\n",
    "\n",
    "\n",
    "    % 2) Make Upper Triangle\n",
    "            %#1) Pick up leading coefficient.\n",
    "        standard_row = AG_M(i, :);\n",
    "        leading_head = standard_row(i);\n",
    "        \n",
    "            %#2).do elimination\n",
    "        for k = [i+1:m]\n",
    "            target_row = AG_M(k, :);\n",
    "            target_head = target_row(i);\n",
    "            AG_M(k,:) = AG_M(k,:) - ((target_head/leading_head)*standard_row);\n",
    "        end\n",
    "    % Row By Row ended\n",
    "    end\n",
    "    % Upper Triangle is formed and is saved at variable 'AG_M'\n",
    "    \n",
    "% 3. < BACKWARD SUBSTITUTION >\n",
    "% Divide AG_M => A,b\n",
    "b = AG_M(:,m+1);\n",
    "A = AG_M(:,1:m);\n",
    "\n",
    "% Backward Sub.\n",
    "% * make solution array x\n",
    "x=zeros(1,m);\n",
    "x(1,m)=b(m)/A(m,m);\n",
    "for e=m-1:-1:1\n",
    "        x_m =(b(e)-sum(A(e,e+1:end).*x(e+1:end))).*1/A(e,e);\n",
    "        x(e)=x_m;\n",
    "end\n",
    "x=x';\n",
    "%END. < Function_GaussElimination ended >\n",
    "end\n",
    "\n",
    "\n",
    "%b). Which part of the code (forward elimination or backward substitution) takes longest to run? \n",
    "%answer : Forward elimination\n",
    "% tic toc showed that foward elimination takes significantly longer time than Backward substitution.\n",
    "% \n",
    "% In the light of structural difference, foward elimination requires for-loop for each row executing :\n",
    "% 1). partial pivoting\n",
    "% 2). forward elimination(as the nested for_loop for the above for-loop)\n",
    "%\n",
    "% If we call the number of rows of A to be 'n', \n",
    "% it takes exec. time that is in proportion to (O(n^2)),\n",
    "% Whereas the < Backward Substitution > only involves row by row substitution computing from backward,\n",
    "% taking execution time in proportion to (O(n)).\n"
   ]
  },
  {
   "cell_type": "code",
   "execution_count": 9,
   "metadata": {},
   "outputs": [
    {
     "data": {
      "image/png": "[encoded data removed]",
      "text/plain": [
       "<IPython.core.display.Image object>"
      ]
     },
     "metadata": {},
     "output_type": "display_data"
    }
   ],
   "source": [
    "    % author :\n",
    "    % Han Seokhee(2013130874)\n",
    "    % Chung Hyelee(2017130776)\n",
    "    % Hwang Jongho(2018320177)\n",
    "% < Explantion for the script >\n",
    "    % Test GaussElimination function, \n",
    "    % By comparing the its tic-toc exec. time with matlab build-in '\\' function.\n",
    "\n",
    "% basic clearing\n",
    "close all; clear all; clc\n",
    "\n",
    "% Assign exec. times for each array.\n",
    "T_gauss = [];\n",
    "T_backslash = [];\n",
    "k = [5,10,100,500];\n",
    "m = 1;\n",
    "\n",
    "for i = k\n",
    "    A = rand(i);\n",
    "    b = rand(i,1);\n",
    "    % save gauss eli. time in t1\n",
    "    tic;\n",
    "    GaussElimination(A,b);\n",
    "    t1 = toc;\n",
    "    % save matlab backlash time in t2\n",
    "    tic\n",
    "    A\\b;\n",
    "    t2 = toc;\n",
    "    % save t1, t2 in T_gauss, T_matlab\n",
    "    T_gauss(m) = t1;\n",
    "    T_backslash(m) = t2;\n",
    "    % add one for iteration\n",
    "    m = m+1;\n",
    "end\n",
    "\n",
    "    % plot T_gauss and T_backslash according to size array k\n",
    "plot(k, T_gauss, 'b');\n",
    "hold on\n",
    "plot(k, T_backslash, 'r');\n",
    "ylabel('execution time')\n",
    "legend('GaussElim.','Backslash');\n",
    "\n",
    "\n",
    "\n",
    "%c).How much faster is the built-in Matlab function than your function for each time step?\n",
    "%Why do you think it is faster?\n",
    "\n",
    "% The '\\' is, 'in average' about 30~70 times faster, though there were\n",
    "% fluctuation for each time we exectuted the script, in the range of n size given in our test.\n",
    "% The gap in computation speed grow larger as the row size of A increases.\n",
    "% This gap comes from versatility of '\\' backslash command in Matlab.\n",
    "% Matlab '\\' has versatile flowchart in getting solution for Ax = b \n",
    "% It asks which type of Matrix it is ex) full matrix? sparse? Hermitian? Upper Hassenberg?\n",
    "% And It offers many types of solvers such as QR solver, LDL solver, LU solvoer, Cholsky solvers etc for different\n",
    "% types of matrices in getting solution. \n",
    "% These versatile framework of choosing supposedly(by matlab developers)-the-most-efficient\n",
    "% solvers, usually taking good advatages of 'symmetry', shortens the computation time.\n",
    "% On the other hand, our GaussElimination uses the same structure of solver no matter which it computes.\n"
   ]
  },
  {
   "cell_type": "markdown",
   "metadata": {},
   "source": [
    "# Part2."
   ]
  },
  {
   "cell_type": "markdown",
   "metadata": {},
   "source": [
    "<img src = \"Screen%20Shot%202019-06-21%20at%2012.17.29%20PM.png\">"
   ]
  },
  {
   "cell_type": "code",
   "execution_count": 10,
   "metadata": {},
   "outputs": [
    {
     "name": "stdout",
     "output_type": "stream",
     "text": [
      "\n",
      "X =\n",
      "\n",
      "   32.7263\n",
      "   26.2935\n",
      "   47.2573\n",
      "\n"
     ]
    }
   ],
   "source": [
    "    % author :\n",
    "    % Han Seokhee(2013130874)\n",
    "    % Chung Hyelee(2017130776)\n",
    "    % Hwang Jongho(2018320177)\n",
    "% < Explantion for the script >\n",
    "    % Calculates X(total_value) using fomula X = MX + b\n",
    "% b <- final demand, MX <- internal(intermediate) demand.\n",
    "\n",
    "% Basic clearing\n",
    "close all; clear all; clc\n",
    "\n",
    "b = [10; 15; 20];     % a final demand of steel, energy, cars\n",
    "M = [.1 .65 .05; .04 .2 .1; .6 .2 .05];     % internal demands\n",
    "A = (eye(size(M,1)) - M);     % b = A*X\n",
    "X = GaussElimination(A, b);     % total output\n",
    "X   %or disp(X)\n",
    "\n",
    "% 1) Why do the numbers in M not add up to US $1?\n",
    "% Here it is given that, for a production of one dollor of Steel,\n",
    "% as intermediate goods,\n",
    "% 0.1 dollor-worth of steel, 0.65 dollor-worth of energy, and 0.05 dollor-worth of car\n",
    "% are required to produce it.\n",
    "% Inputs of other sectors as internal goods for a production of a dollor of a sector\n",
    "% don't necessarily add up to one, and practically the add-value of\n",
    "% production costs for a production of one unit of sector is ,rather, smaller the better.\n",
    "\n",
    "\n",
    "\n",
    "% 2) Does the solution X add up to the sum of the final demand? If not, why not?\n",
    "% No. \n",
    "% X does not add up to sum of final demand\n",
    "% because as we can see in the given fomula for X = MX + b ( b : final\n",
    "% demand ) Total Output(or Total production) is composed of \n",
    "% 1).internal demand, which means how much S,E,C is\n",
    "% needed in the process of production of the final demand(b)\n",
    "% 2). And the final demand.\n",
    "% Thus, total_output(X) which is = intermediate(internal)_demand(MX) + final_demand(b)\n",
    "% cannot add up to b."
   ]
  },
  {
   "cell_type": "markdown",
   "metadata": {},
   "source": [
    "# Part 3."
   ]
  },
  {
   "cell_type": "markdown",
   "metadata": {},
   "source": [
    "<img src = \"Screen%20Shot%202019-06-21%20at%2012.18.30%20PM.png\">"
   ]
  },
  {
   "cell_type": "code",
   "execution_count": 11,
   "metadata": {},
   "outputs": [
    {
     "name": "stdout",
     "output_type": "stream",
     "text": [
      "Created file '/Users/sucky/Desktop/Git_Projects/19-1R-EM-TP/Project_3/eigenInteractive.m'.\n"
     ]
    }
   ],
   "source": [
    "%%file eigenInteractive.m\n",
    "% Function Name : eigenInteractive(.m)\n",
    "    % author :\n",
    "    % Han Seokhee(2013130874)\n",
    "    % Chung Hyelee(2017130776)\n",
    "    % Hwang Jongho(2018320177)\n",
    "% < Explantion for the function >\n",
    "    % 1). Create three draggable points in an interactive plot\n",
    "    %     (a vector v and two column vectors of a 2-by-2 matrix A)\n",
    "    % 2). Show the corresponding eigenvectors and eigenvalues\n",
    "    %     if they are real\n",
    "    % inspired by\n",
    "    % https://stackoverflow.com/questions/9646146/how-to-make-a-matlab-plot-interactive/9650495\n",
    "    \n",
    "function eigenInteractive(Pos)\n",
    "\n",
    "% call the function WITHOUT any input argument\n",
    "% to setup the figure and the environment\n",
    "\n",
    "if nargin == 0\n",
    "    \n",
    "    % clean up\n",
    "    close all;\n",
    "    clear all;\n",
    "    clc;\n",
    "\n",
    "    % create a figure\n",
    "    figure(1);\n",
    "    axis([-10 10 -10 10]);\n",
    "    hold on;\n",
    "\n",
    "    % global variables that hold the three impoint handles\n",
    "    global a1 a2 v\n",
    "    \n",
    "    % create first points\n",
    "    a1 = impoint(gca,1,2);   % first column vector of A\n",
    "    setString(a1,'a_1');\n",
    "    a2 = impoint(gca,2,.5);  % second column vector of A\n",
    "    setString(a2,'a_2');\n",
    "    v = impoint(gca,2,3);\n",
    "    setString(v, 'v');\n",
    "    \n",
    "    % Call subfunction\n",
    "    drawInfo(a1,a2,v)\n",
    "\n",
    "    % Add callback to each point\n",
    "    addNewPositionCallback(a1,@eigenInteractive);\n",
    "    addNewPositionCallback(a2,@eigenInteractive);\n",
    "    addNewPositionCallback(v,@eigenInteractive);\n",
    "    \n",
    "    disp('setup done')\n",
    "else\n",
    "\n",
    "    % If we get an input argument, its the position\n",
    "    % from the callback, so we know that the user\n",
    "    % dragged a point.\n",
    "    \n",
    "    % access the plot and impoint handles\n",
    "    global H1 H2 H3 H4 H5 H6 H7 H8 H9 H10 H11 H12 H13 H14 H15 a1 a2 v\n",
    "\n",
    "    \n",
    "    % remove old arrows\n",
    "    delete(H1)\n",
    "    delete(H2)\n",
    "    delete(H3)\n",
    "    delete(H4)\n",
    "    delete(H5)\n",
    "    delete(H6)\n",
    "    delete(H7)\n",
    "    delete(H8)\n",
    "    delete(H9)\n",
    "    delete(H10)\n",
    "    delete(H11)\n",
    "    delete(H12)\n",
    "    delete(H13)\n",
    "    delete(H14)\n",
    "    delete(H15)\n",
    "    % draw new arrows\n",
    "    drawInfo(a1,a2,v)\n",
    "    \n",
    "end\n",
    "end\n",
    "\n",
    "function drawInfo(a1,a2,v)\n",
    "\n",
    "P = zeros(2,2);     % P is the matrix A\n",
    "\n",
    "% get X and Y coordinates for the draggable points.\n",
    "P(:,1) = getPosition(a1);\n",
    "P(:,2) = getPosition(a2);\n",
    "V = getPosition(v);\n",
    "\n",
    "Av = P*V';\n",
    "\n",
    "% find eigenvectors and eigenvalues of the matrix A\n",
    "[vec, val] = eig(P);\n",
    "e1 = vec(:, 1);     % first eigenvector\n",
    "e2 = vec(:, 2);     % second eigenvector\n",
    "\n",
    "% plot arrows and text\n",
    "global H1 H2 H3 H4 H5 H6 H7 H8 H9 H10 H11 H12 H13 H14 H15\n",
    "H1 = plot([0 P(1,1)], [0 P(2,1)], 'b');\n",
    "H2 = plot([0 P(1,2)], [0 P(2,2)], 'g');\n",
    "H3 = text(3,7,sprintf('A = $\\\\left [\\\\begin{array}{cc} a_1 & a_2\\\\end{array}\\\\right ]$ = $\\\\left [\\\\begin{array}{cc} %.02f & %.02f\\\\\\\\%.02f & %.02f\\\\end{array}\\\\right ]$',P(1,1),P(1,2),P(2,1),P(2,2)),'Interpreter','Latex'); \n",
    "H4 = text(5,5,sprintf('v = $\\\\left [\\\\begin{array}{cc} %.02f \\\\\\\\%.02f \\\\end{array}\\\\right ]$',V(1),V(2)),'Interpreter','Latex'); \n",
    "H5 = plot([V(1) Av(1)], [V(2) Av(2)], 'k');\n",
    "H6 = plot(Av(1), Av(2), 'ro');\n",
    "H7 = text(5,3,sprintf('Av = $\\\\left [\\\\begin{array}{cc} %.02f \\\\\\\\%.02f \\\\end{array}\\\\right ]$',Av(1),Av(2)),'Interpreter','Latex'); \n",
    "H8 = text(Av(1), Av(2), 'Av');\n",
    "if isreal(vec) && isreal(val)\n",
    "    H9 = plot([0 e1(1)], [0 e1(2)], 'k');\n",
    "    H10 = plot([0 e2(1)], [0 e2(2)], 'k'); \n",
    "    H11 = text(e1(1), e1(2), 'e1');\n",
    "    H12 = text(e2(1), e2(2), 'e2');\n",
    "    H13 = text(5,1,sprintf('e1 = $\\\\left [\\\\begin{array}{cc} %.02f \\\\\\\\%.02f \\\\end{array}\\\\right ]$',e1(1),e1(2)),'Interpreter','Latex'); \n",
    "    H14 = text(5,-1,sprintf('e2 = $\\\\left [\\\\begin{array}{cc} %.02f \\\\\\\\%.02f \\\\end{array}\\\\right ]$',e2(1),e2(2)),'Interpreter','Latex'); \n",
    "    H15 = text(-7,7,sprintf('Eigenvalues are %.02f and %.02f ',val(1,1),val(2,2)),'Interpreter','Latex'); \n",
    "    \n",
    "    % reverse the order of the elements to keep\n",
    "    % the impoints on top\n",
    "    t=get(gca,'Children');\n",
    "    set(gca,'Children',[t(18) t(17) t(16) t(15) t(14) t(13) t(12) t(11) t(10) t(9) t(8) t(7) t(6) t(5) t(4) t(3) t(2) t(1)]);\n",
    "    \n",
    "else\n",
    "    H15 = text(-7,7,'Eigenvalues or eigenvectors are not real'); \n",
    "    \n",
    "    % reverse the order of the elements to keep\n",
    "    % the impoints on top\n",
    "    t=get(gca,'Children');\n",
    "    set(gca,'Children',[t(12) t(11) t(10) t(9) t(8) t(7) t(6) t(5) t(4) t(3) t(2) t(1)]);\n",
    "end\n",
    "end"
   ]
  },
  {
   "cell_type": "markdown",
   "metadata": {},
   "source": [
    "# Do this Custom EigenVector Calculation App in your native matlab app"
   ]
  },
  {
   "cell_type": "code",
   "execution_count": 12,
   "metadata": {},
   "outputs": [
    {
     "name": "stdout",
     "output_type": "stream",
     "text": [
      "setup done\n"
     ]
    },
    {
     "data": {
      "image/png": "[encoded data removed]",
      "text/plain": [
       "<IPython.core.display.Image object>"
      ]
     },
     "metadata": {},
     "output_type": "display_data"
    }
   ],
   "source": [
    "eigenInteractive"
   ]
  }
 ],
 "metadata": {
  "kernelspec": {
   "display_name": "Matlab",
   "language": "matlab",
   "name": "matlab"
  },
  "language_info": {
   "codemirror_mode": "octave",
   "file_extension": ".m",
   "help_links": [
    {
     "text": "MetaKernel Magics",
     "url": "https://github.com/calysto/metakernel/blob/master/metakernel/magics/README.md"
    }
   ],
   "mimetype": "text/x-octave",
   "name": "matlab",
   "version": "0.16.1"
  }
 },
 "nbformat": 4,
 "nbformat_minor": 2
}
