{
 "cells": [
  {
   "cell_type": "code",
   "execution_count": 11,
   "metadata": {},
   "outputs": [],
   "source": [
    "from urllib.request import urlopen\n",
    "import urllib\n",
    "from bs4 import BeautifulSoup\n",
    "import csv\n",
    "import pandas as pd\n",
    "import re\n",
    "import matplotlib.pyplot as plt"
   ]
  },
  {
   "cell_type": "code",
   "execution_count": 12,
   "metadata": {},
   "outputs": [],
   "source": [
    "html = urlopen('https://www.amazon.com/kindle-dbs/entity/author/B000APVVYO?ie=UTF8&langFilter=default&language=en_US&node=283155&offset=0&page=1&pageSize=12&searchAlias=stripbooks&sort=author-pages-popularity-rank')\n",
    "bsObject = BeautifulSoup(html, 'html.parser')"
   ]
  },
  {
   "cell_type": "code",
   "execution_count": 13,
   "metadata": {
    "scrolled": true
   },
   "outputs": [
    {
     "data": {
      "text/plain": [
       "[<span class=\"a-size-medium\"> The Algorithm Design Manual</span>,\n",
       " <span class=\"a-size-medium\"> The Data Science Design Manual (Texts in Computer Science)</span>,\n",
       " <span class=\"a-size-medium\"> Programming Challenges: The Programming Contest Training Manual (Texts in Computer Science)</span>,\n",
       " <span class=\"a-size-medium\"> Calculated Bets: Computers, Gambling, and Mathematical Modeling to Win (Outlooks)</span>,\n",
       " <span class=\"a-size-medium\"> The Algorithm Design Manual</span>,\n",
       " <span class=\"a-size-medium\"> Who's Bigger?: Where Historical Figures Really Rank</span>,\n",
       " <span class=\"a-size-medium\"> Computational Discrete Mathematics: Combinatorics and Graph Theory with Mathematica ®</span>,\n",
       " <span class=\"a-size-medium\"> Implementing Discrete Mathematics: Combinatorics And Graph Theory With Mathematica</span>]"
      ]
     },
     "execution_count": 13,
     "metadata": {},
     "output_type": "execute_result"
    }
   ],
   "source": [
    "temp = bsObject.find_all(\"span\", {'class':'a-size-medium'})\n",
    "temp"
   ]
  },
  {
   "cell_type": "code",
   "execution_count": 15,
   "metadata": {},
   "outputs": [],
   "source": [
    "temp = bsObject.find('div', {'id':'searchWidget'})\n",
    "part = temp.find_all('span', {'class':'a-size-medium'})\n",
    "\n",
    "with open('booklinks.csv', 'w') as f:\n",
    "    writer = csv.writer(f)\n",
    "    writer.writerow(['name', 'link'])\n",
    "\n",
    "    for book in part:\n",
    "        names = book.text.strip()\n",
    "        halfLink = book.parent.get('href')\n",
    "        links = 'https://www.amazon.com' + halfLink\n",
    "        writer.writerow([names, links])"
   ]
  },
  {
   "cell_type": "code",
   "execution_count": 16,
   "metadata": {},
   "outputs": [],
   "source": [
    "data = pd.read_csv('booklinks.csv')\n",
    "X = data['name']\n",
    "Y = data['link']"
   ]
  },
  {
   "cell_type": "code",
   "execution_count": 17,
   "metadata": {},
   "outputs": [
    {
     "data": {
      "text/html": [
       "<div>\n",
       "<style scoped>\n",
       "    .dataframe tbody tr th:only-of-type {\n",
       "        vertical-align: middle;\n",
       "    }\n",
       "\n",
       "    .dataframe tbody tr th {\n",
       "        vertical-align: top;\n",
       "    }\n",
       "\n",
       "    .dataframe thead th {\n",
       "        text-align: right;\n",
       "    }\n",
       "</style>\n",
       "<table border=\"1\" class=\"dataframe\">\n",
       "  <thead>\n",
       "    <tr style=\"text-align: right;\">\n",
       "      <th></th>\n",
       "      <th>name</th>\n",
       "      <th>link</th>\n",
       "    </tr>\n",
       "  </thead>\n",
       "  <tbody>\n",
       "    <tr>\n",
       "      <th>0</th>\n",
       "      <td>The Algorithm Design Manual</td>\n",
       "      <td>https://www.amazon.com/gp/product/B00B8139Z8/r...</td>\n",
       "    </tr>\n",
       "    <tr>\n",
       "      <th>1</th>\n",
       "      <td>The Data Science Design Manual (Texts in Compu...</td>\n",
       "      <td>https://www.amazon.com/gp/product/B073N5ZDMK/r...</td>\n",
       "    </tr>\n",
       "    <tr>\n",
       "      <th>2</th>\n",
       "      <td>Programming Challenges: The Programming Contes...</td>\n",
       "      <td>https://www.amazon.com/gp/product/B008AFF2ZU/r...</td>\n",
       "    </tr>\n",
       "    <tr>\n",
       "      <th>3</th>\n",
       "      <td>Calculated Bets: Computers, Gambling, and Math...</td>\n",
       "      <td>https://www.amazon.com/gp/product/B004IASVJK/r...</td>\n",
       "    </tr>\n",
       "    <tr>\n",
       "      <th>4</th>\n",
       "      <td>The Algorithm Design Manual</td>\n",
       "      <td>https://www.amazon.com/gp/product/0387948600/r...</td>\n",
       "    </tr>\n",
       "    <tr>\n",
       "      <th>5</th>\n",
       "      <td>Who's Bigger?: Where Historical Figures Really...</td>\n",
       "      <td>https://www.amazon.com/gp/product/B00EZ3VF34/r...</td>\n",
       "    </tr>\n",
       "    <tr>\n",
       "      <th>6</th>\n",
       "      <td>Computational Discrete Mathematics: Combinator...</td>\n",
       "      <td>https://www.amazon.com/gp/product/B00D2WPXMI/r...</td>\n",
       "    </tr>\n",
       "    <tr>\n",
       "      <th>7</th>\n",
       "      <td>Implementing Discrete Mathematics: Combinatori...</td>\n",
       "      <td>https://www.amazon.com/gp/product/0201509431/r...</td>\n",
       "    </tr>\n",
       "  </tbody>\n",
       "</table>\n",
       "</div>"
      ],
      "text/plain": [
       "                                                name  \\\n",
       "0                        The Algorithm Design Manual   \n",
       "1  The Data Science Design Manual (Texts in Compu...   \n",
       "2  Programming Challenges: The Programming Contes...   \n",
       "3  Calculated Bets: Computers, Gambling, and Math...   \n",
       "4                        The Algorithm Design Manual   \n",
       "5  Who's Bigger?: Where Historical Figures Really...   \n",
       "6  Computational Discrete Mathematics: Combinator...   \n",
       "7  Implementing Discrete Mathematics: Combinatori...   \n",
       "\n",
       "                                                link  \n",
       "0  https://www.amazon.com/gp/product/B00B8139Z8/r...  \n",
       "1  https://www.amazon.com/gp/product/B073N5ZDMK/r...  \n",
       "2  https://www.amazon.com/gp/product/B008AFF2ZU/r...  \n",
       "3  https://www.amazon.com/gp/product/B004IASVJK/r...  \n",
       "4  https://www.amazon.com/gp/product/0387948600/r...  \n",
       "5  https://www.amazon.com/gp/product/B00EZ3VF34/r...  \n",
       "6  https://www.amazon.com/gp/product/B00D2WPXMI/r...  \n",
       "7  https://www.amazon.com/gp/product/0201509431/r...  "
      ]
     },
     "execution_count": 17,
     "metadata": {},
     "output_type": "execute_result"
    }
   ],
   "source": [
    "data"
   ]
  },
  {
   "cell_type": "code",
   "execution_count": null,
   "metadata": {},
   "outputs": [],
   "source": []
  }
 ],
 "metadata": {
  "kernelspec": {
   "display_name": "Python 3",
   "language": "python",
   "name": "python3"
  },
  "language_info": {
   "codemirror_mode": {
    "name": "ipython",
    "version": 3
   },
   "file_extension": ".py",
   "mimetype": "text/x-python",
   "name": "python",
   "nbconvert_exporter": "python",
   "pygments_lexer": "ipython3",
   "version": "3.7.1"
  }
 },
 "nbformat": 4,
 "nbformat_minor": 2
}
