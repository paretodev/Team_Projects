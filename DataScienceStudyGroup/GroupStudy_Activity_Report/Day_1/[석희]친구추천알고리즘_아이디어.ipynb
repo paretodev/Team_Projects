{
 "cells": [
  {
   "cell_type": "markdown",
   "metadata": {},
   "source": [
    "# Data-driven Friend Suggestion"
   ]
  },
  {
   "cell_type": "markdown",
   "metadata": {},
   "source": [
    "## 1). Key Connector 찾기 <br/>2). FOAF('다리 건너 친구') 추천"
   ]
  },
  {
   "cell_type": "markdown",
   "metadata": {},
   "source": [
    "# 1). Key Connecter (Rough Idea)  A.K.A 집단 내 핵인싸 찾기"
   ]
  },
  {
   "cell_type": "markdown",
   "metadata": {},
   "source": [
    "###      1). 한 사람을 '사전'으로 표시한 후 리스트에 모은다."
   ]
  },
  {
   "cell_type": "code",
   "execution_count": 17,
   "metadata": {},
   "outputs": [
    {
     "data": {
      "text/plain": [
       "[{'id': 0, 'name': 'Hero'},\n",
       " {'id': 1, 'name': 'Dunn'},\n",
       " {'id': 2, 'name': 'Sue'},\n",
       " {'id': 3, 'name': 'Chi'},\n",
       " {'id': 4, 'name': 'Thor'},\n",
       " {'id': 5, 'name': 'Clive'},\n",
       " {'id': 6, 'name': 'Hicks'},\n",
       " {'id': 7, 'name': 'Devin'},\n",
       " {'id': 8, 'name': 'Kate'},\n",
       " {'id': 9, 'name': 'Klein'},\n",
       " {'id': 10, 'name': 'Jen'}]"
      ]
     },
     "execution_count": 17,
     "metadata": {},
     "output_type": "execute_result"
    }
   ],
   "source": [
    "users = [\n",
    "    { \"id\": 0, \"name\": \"Hero\" },\n",
    "    { \"id\": 1, \"name\": \"Dunn\" },\n",
    "    { \"id\": 2, \"name\": \"Sue\" },\n",
    "    { \"id\": 3, \"name\": \"Chi\" },\n",
    "    { \"id\": 4, \"name\": \"Thor\" },\n",
    "    { \"id\": 5, \"name\": \"Clive\" },\n",
    "    { \"id\": 6, \"name\": \"Hicks\" },\n",
    "    { \"id\": 7, \"name\": \"Devin\" },\n",
    "    { \"id\": 8, \"name\": \"Kate\" },\n",
    "    { \"id\": 9, \"name\": \"Klein\" },\n",
    "    { \"id\": 10, \"name\": \"Jen\" }\n",
    "]\n",
    "\n",
    "users"
   ]
  },
  {
   "cell_type": "markdown",
   "metadata": {},
   "source": [
    "###      2). 기존의 친구 관계를 '튜플'로 표시한 후 리스트에 모은다."
   ]
  },
  {
   "cell_type": "code",
   "execution_count": 18,
   "metadata": {},
   "outputs": [
    {
     "data": {
      "text/plain": [
       "[(0, 1),\n",
       " (0, 2),\n",
       " (1, 2),\n",
       " (1, 3),\n",
       " (2, 3),\n",
       " (3, 4),\n",
       " (4, 5),\n",
       " (5, 6),\n",
       " (5, 7),\n",
       " (6, 8),\n",
       " (7, 8),\n",
       " (8, 9)]"
      ]
     },
     "execution_count": 18,
     "metadata": {},
     "output_type": "execute_result"
    }
   ],
   "source": [
    "friendships = [(0, 1), (0, 2), (1, 2), (1, 3), (2, 3), (3, 4),\n",
    "               (4, 5), (5, 6), (5, 7), (6, 8), (7, 8), (8, 9)]\n",
    "\n",
    "friendships"
   ]
  },
  {
   "cell_type": "markdown",
   "metadata": {},
   "source": [
    "###      3). 각각 사람들의 사전에 '친구들'이라는 리스트(아직 비어있는)를 추가 해준다"
   ]
  },
  {
   "cell_type": "code",
   "execution_count": 19,
   "metadata": {},
   "outputs": [
    {
     "data": {
      "text/plain": [
       "[{'id': 0, 'name': 'Hero', 'friends': []},\n",
       " {'id': 1, 'name': 'Dunn', 'friends': []},\n",
       " {'id': 2, 'name': 'Sue', 'friends': []},\n",
       " {'id': 3, 'name': 'Chi', 'friends': []},\n",
       " {'id': 4, 'name': 'Thor', 'friends': []},\n",
       " {'id': 5, 'name': 'Clive', 'friends': []},\n",
       " {'id': 6, 'name': 'Hicks', 'friends': []},\n",
       " {'id': 7, 'name': 'Devin', 'friends': []},\n",
       " {'id': 8, 'name': 'Kate', 'friends': []},\n",
       " {'id': 9, 'name': 'Klein', 'friends': []},\n",
       " {'id': 10, 'name': 'Jen', 'friends': []}]"
      ]
     },
     "execution_count": 19,
     "metadata": {},
     "output_type": "execute_result"
    }
   ],
   "source": [
    "# 한 사람을 표현하는 사전에 '친구들' 이라는 리스트 항목을 각 인물 사전 하나하나에 추가해준다.\n",
    "for user in users:\n",
    "    user[\"friends\"] = []\n",
    "\n",
    "users"
   ]
  },
  {
   "cell_type": "markdown",
   "metadata": {},
   "source": [
    "### 4). 관계정보 튜플 하나하나 돌며, 만약 관계가 있을 경우, '친구들' 이라는 리스트에 그 친구를 대표하는 '사전'을 추가한다. "
   ]
  },
  {
   "cell_type": "code",
   "execution_count": 20,
   "metadata": {},
   "outputs": [],
   "source": [
    "# why? 사전 자체를 넣는 이유 => 친구 다린 건너 친구등 필요한 정보를 이용하려고\n",
    "\n",
    "for i, j in friendships:\n",
    "    # this works because users[i] is the user whose id is i\n",
    "    users[i][\"friends\"].append(users[j]) # add i as a friend of j\n",
    "    users[j][\"friends\"].append(users[i]) # add j as a friend of i\n",
    "\n",
    "#users"
   ]
  },
  {
   "cell_type": "markdown",
   "metadata": {},
   "source": [
    "<img src=\"Screen%20Shot%202019-07-04%20at%206.53.28%20PM.png\">"
   ]
  },
  {
   "cell_type": "markdown",
   "metadata": {},
   "source": [
    "### 5). 여러가지 지표를 만들어보자 (간단한 것들)"
   ]
  },
  {
   "cell_type": "code",
   "execution_count": 5,
   "metadata": {},
   "outputs": [],
   "source": [
    "# 함수 : 유저를 대표하는 함수를 넣으면 \n",
    "# => 친구들 리스트 원소 갯수를 세서 '친구수'를 돌려주는 함수\n",
    "def number_of_friends(user):\n",
    "    \"\"\"how many friends does _user_ have?\"\"\"\n",
    "    return len(user[\"friends\"]) "
   ]
  },
  {
   "cell_type": "markdown",
   "metadata": {},
   "source": [
    "#### 1.    집단내 커넥션 갯수"
   ]
  },
  {
   "cell_type": "code",
   "execution_count": 21,
   "metadata": {},
   "outputs": [
    {
     "data": {
      "text/plain": [
       "12.0"
      ]
     },
     "execution_count": 21,
     "metadata": {},
     "output_type": "execute_result"
    }
   ],
   "source": [
    "total_connections = sum(number_of_friends(user)\n",
    "                        for user in users)/2 \n",
    "total_connections"
   ]
  },
  {
   "cell_type": "markdown",
   "metadata": {},
   "source": [
    "#### 2.  한 명이 평균적으로 몇명과 관계를 맺고 있나. ( 서로 교류가 활발한 그룹인지 알 수 있음, 어색하면 친추도 안하겠죠 )"
   ]
  },
  {
   "cell_type": "code",
   "execution_count": 7,
   "metadata": {},
   "outputs": [
    {
     "data": {
      "text/plain": [
       "1.0909090909090908"
      ]
     },
     "execution_count": 7,
     "metadata": {},
     "output_type": "execute_result"
    }
   ],
   "source": [
    "num_users = len(users)\n",
    "avg_connections = total_connections / num_users # 2.4\n",
    "\n",
    "avg_connections"
   ]
  },
  {
   "cell_type": "code",
   "execution_count": 8,
   "metadata": {},
   "outputs": [
    {
     "data": {
      "text/plain": [
       "1.09"
      ]
     },
     "execution_count": 8,
     "metadata": {},
     "output_type": "execute_result"
    }
   ],
   "source": [
    "round(avg_connections,2)"
   ]
  },
  {
   "cell_type": "markdown",
   "metadata": {},
   "source": [
    "### 6). 핵인싸 찾기"
   ]
  },
  {
   "cell_type": "markdown",
   "metadata": {},
   "source": [
    "#### 한 인물 사전에는 '친구들' 이라는 '리스트'가 있고 그 리스트 안에는 각 친구를 표시하는 '사전들' 이 있다=> 친구들 리스트에서 사전 갯수를 세고, 그것을 다시 아이디와 매칭 시켜 깔끔하게 정리해보자"
   ]
  },
  {
   "cell_type": "code",
   "execution_count": 9,
   "metadata": {},
   "outputs": [
    {
     "data": {
      "text/plain": [
       "[(0, 2),\n",
       " (1, 3),\n",
       " (2, 3),\n",
       " (3, 3),\n",
       " (4, 2),\n",
       " (5, 3),\n",
       " (6, 2),\n",
       " (7, 2),\n",
       " (8, 3),\n",
       " (9, 1),\n",
       " (10, 0)]"
      ]
     },
     "execution_count": 9,
     "metadata": {},
     "output_type": "execute_result"
    }
   ],
   "source": [
    "# 최종목적 : (유저_id, 친구수)들을 모은 리스트를 만들고, 친구수 제일 많은 유저_id를 찾아내자.\n",
    "target_list = []\n",
    "\n",
    "# 유저 각각의 사전마다 다음을 반복\n",
    "for k in users:\n",
    "    \n",
    "    # 유저 사전을 아까 만든 number of friends 함수에 넣는다.\n",
    "    num = number_of_friends(k)\n",
    "    \n",
    "    # target_list에 (그 사전의 아이디, 친구수) 튜플을 추가한다.\n",
    "    target_list.append((k['id'], num))\n",
    "    \n",
    "# 목적 리스트 완성\n",
    "target_list"
   ]
  },
  {
   "cell_type": "code",
   "execution_count": 10,
   "metadata": {},
   "outputs": [
    {
     "data": {
      "text/plain": [
       "[(1, 3),\n",
       " (2, 3),\n",
       " (3, 3),\n",
       " (5, 3),\n",
       " (8, 3),\n",
       " (0, 2),\n",
       " (4, 2),\n",
       " (6, 2),\n",
       " (7, 2),\n",
       " (9, 1),\n",
       " (10, 0)]"
      ]
     },
     "execution_count": 10,
     "metadata": {},
     "output_type": "execute_result"
    }
   ],
   "source": [
    "# 두 번째 원소인 친구수로 이 리스트를 정렬 한다.\n",
    "target_list.sort(key=lambda target: target[1], reverse= True)\n",
    "target_list"
   ]
  },
  {
   "cell_type": "markdown",
   "metadata": {},
   "source": [
    "#### 핵인싸의 아이디만 추출해봅니다."
   ]
  },
  {
   "cell_type": "code",
   "execution_count": 11,
   "metadata": {},
   "outputs": [
    {
     "data": {
      "text/plain": [
       "[1, 2, 3, 5, 8]"
      ]
     },
     "execution_count": 11,
     "metadata": {},
     "output_type": "execute_result"
    }
   ],
   "source": [
    "# 친구수가 3명인 핵인싸 들의 아이디만 추린다.\n",
    "[user_id for user_id, numoff in target_list if numoff == 3]"
   ]
  },
  {
   "cell_type": "markdown",
   "metadata": {},
   "source": [
    "## ** 광고 집행시 : 노출 광고 비용이 인당으로 산정된다면? 'key connector'를 찾기! **\n",
    "### user id 1, 2, 3, 5, 8 에게 집행"
   ]
  },
  {
   "cell_type": "markdown",
   "metadata": {},
   "source": [
    "---------------"
   ]
  },
  {
   "cell_type": "markdown",
   "metadata": {},
   "source": [
    "# FACEBOOK 친구 추천 : 어떤 사람이 그 사람의 친구일 확률이 높을까?"
   ]
  },
  {
   "cell_type": "markdown",
   "metadata": {},
   "source": [
    "----------------"
   ]
  },
  {
   "cell_type": "markdown",
   "metadata": {},
   "source": [
    "# *< Idea Share Time!! >*\n",
    "## 1). MUTUAL friend number ? <br/> 2). Interest Sharing?<br/> 3). What is your Idea ? 뭘 근거로 친구를 추천하면 받을까? (페이스북 : 도달률이 높으려면 한 사람이 친구수가 많을 수록 좋음) : 같은 학교, 그룹(근 기수) , 지리적 근접성 ( 직장인 ), ~시작했습니다, # 해시태그 비슷한 사람 추천!! #태그 클릭 데이터 //"
   ]
  },
  {
   "cell_type": "markdown",
   "metadata": {},
   "source": [
    "-------"
   ]
  },
  {
   "cell_type": "markdown",
   "metadata": {},
   "source": [
    "# Maximum Mutual Friend Number SUGGESTION"
   ]
  },
  {
   "cell_type": "code",
   "execution_count": 12,
   "metadata": {},
   "outputs": [
    {
     "data": {
      "text/plain": [
       "{0: Counter({3: 2}),\n",
       " 1: Counter({4: 1}),\n",
       " 2: Counter({4: 1}),\n",
       " 3: Counter({0: 2, 5: 1}),\n",
       " 4: Counter({1: 1, 2: 1, 6: 1, 7: 1}),\n",
       " 5: Counter({3: 1, 8: 2}),\n",
       " 6: Counter({4: 1, 7: 2, 9: 1}),\n",
       " 7: Counter({4: 1, 6: 2, 9: 1}),\n",
       " 8: Counter({5: 2}),\n",
       " 9: Counter({6: 1, 7: 1}),\n",
       " 10: Counter()}"
      ]
     },
     "execution_count": 12,
     "metadata": {},
     "output_type": "execute_result"
    }
   ],
   "source": [
    "# [1]. 필요한 블록. 카운터는 리스트를 넣으면 누가 몇개씩 있는지를 사전(? 비슷한 것)으로 돌려줍니다.\n",
    "from collections import Counter\n",
    "\n",
    "# [2]. 필요한 기능은 함수로 만들어 놓기\n",
    "\n",
    "#     1). 둘이 같은 사람이니? True/False\n",
    "def not_the_same(user, other_user):\n",
    "    return user['id'] != other_user['id']\n",
    "\n",
    "#     2). 이미 친구에 있는건 아니지? True/False\n",
    "def not_friends(user, other_user):\n",
    "    return all( not_the_same(friend, other_user) for friend in user['friends'] )\n",
    "\n",
    "# [3]. 한 유저에 대해, 유저의 '한 다리 건너 사람' 각각 마다, 해당 커넥션이 몇명있는지 세어주고 Counter로 돌려줘.\n",
    "def friends_of_friend_ids(user):\n",
    "    return Counter(\n",
    "    foaf['id']\n",
    "    for friend in user['friends']\n",
    "    for foaf in friend['friends']\n",
    "    if not_the_same(user, foaf) and not_friends(user, foaf)\n",
    "    )\n",
    "\n",
    "customer_foaf = dict()\n",
    "for i in range(len(users)):\n",
    "    key = i\n",
    "    value = friends_of_friend_ids(users[i]) #foaf 인 경우가 많을 수록 추천해줬을 때 친할 확률이 더 크겠다.\n",
    "    customer_foaf[key] = value\n",
    "\n",
    "customer_foaf"
   ]
  },
  {
   "cell_type": "markdown",
   "metadata": {},
   "source": [
    "## 각 유저에게 mutual friend가 제일 많은 사람을 추천해주세요. (2명 이상, 3명 이상 도 가능 : 결정자에 따라)"
   ]
  },
  {
   "cell_type": "code",
   "execution_count": 13,
   "metadata": {},
   "outputs": [
    {
     "name": "stdout",
     "output_type": "stream",
     "text": [
      "suggested user_id [3] to user_id 0 \n",
      "suggested user_id [4] to user_id 1 \n",
      "suggested user_id [4] to user_id 2 \n",
      "suggested user_id [0] to user_id 3 \n",
      "suggested user_id [1, 2, 6, 7] to user_id 4 \n",
      "suggested user_id [8] to user_id 5 \n",
      "suggested user_id [7] to user_id 6 \n",
      "suggested user_id [6] to user_id 7 \n",
      "suggested user_id [5] to user_id 8 \n",
      "suggested user_id [6, 7] to user_id 9 \n",
      "None suggested to user_id 10\n"
     ]
    }
   ],
   "source": [
    "# recommend friends who has max foaf connection\n",
    "for i in range(len(customer_foaf)):\n",
    "    \n",
    "    # get counter list \n",
    "    tuple_list = customer_foaf[i].most_common()\n",
    "    \n",
    "    # query the tuples that have max_count and choose them out\n",
    "    max_count_ids = [x for x,y in tuple_list if y == (max([b for a,b in tuple_list]))]\n",
    "    \n",
    "    # suggest those Xs to a user\n",
    "    if len(max_count_ids)!=0:\n",
    "        print('suggested user_id {} to user_id {} '.format(max_count_ids, i))\n",
    "    else :\n",
    "        print('None suggested to user_id {}'.format(i))"
   ]
  },
  {
   "cell_type": "code",
   "execution_count": null,
   "metadata": {},
   "outputs": [],
   "source": []
  }
 ],
 "metadata": {
  "kernelspec": {
   "display_name": "Python 3",
   "language": "python",
   "name": "python3"
  },
  "language_info": {
   "codemirror_mode": {
    "name": "ipython",
    "version": 3
   },
   "file_extension": ".py",
   "mimetype": "text/x-python",
   "name": "python",
   "nbconvert_exporter": "python",
   "pygments_lexer": "ipython3",
   "version": "3.7.1"
  }
 },
 "nbformat": 4,
 "nbformat_minor": 2
}
