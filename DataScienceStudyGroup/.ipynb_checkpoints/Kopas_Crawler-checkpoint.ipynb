{
 "cells": [
  {
   "cell_type": "markdown",
   "metadata": {},
   "source": [
    "# 고파스 크롤러 과제"
   ]
  },
  {
   "cell_type": "markdown",
   "metadata": {},
   "source": [
    "### Goal\n",
    "  <h3 style=\"color:blue;\">파이썬을 이용해 쿠클루에 로그인하고 엔트리번호 </h3>"
   ]
  },
  {
   "cell_type": "code",
   "execution_count": 10,
   "metadata": {},
   "outputs": [],
   "source": [
    "# Import modules to use\n",
    "from selenium import webdriver\n",
    "import bs4\n",
    "driver = webdriver.Chrome('/Users/sucky/Desktop/chromedriver') # CUSTOM SETTING\n",
    "import selenium.webdriver as webdriver\n",
    "import selenium.webdriver.support.ui as ui\n",
    "from selenium.webdriver.common.keys import Keys\n",
    "from time import sleep\n",
    "# Download 'alert control' in Chrome browser and change setting to block all alerts."
   ]
  },
  {
   "cell_type": "code",
   "execution_count": 11,
   "metadata": {},
   "outputs": [],
   "source": [
    "#  Log-in to the site for authentification to use the info. inside.\n",
    "klue_url = \"http://klue.kr/\"\n",
    "driver.get(klue_url)\n",
    "driver.find_element_by_xpath(\"/html/body/app-root/menubar/div/ul/menubar-guest/span[2]\").click()\n",
    "i_d = driver.find_element_by_xpath(\"/html/body/app-root/app-modal/div/div/div/modal-contents/div/modal-login/input[1]\")\n",
    "i_d.send_keys(\"7616tjrgml\")\n",
    "password = driver.find_element_by_xpath(\"/html/body/app-root/app-modal/div/div/div/modal-contents/div/modal-login/input[2]\")\n",
    "password.send_keys(\"dnsdud06!\")\n",
    "driver.find_element_by_xpath('/html/body/app-root/app-modal/div/div/div/modal-contents/div/modal-login/button').click()"
   ]
  },
  {
   "cell_type": "markdown",
   "metadata": {},
   "source": [
    "## STEP2. assign 5000 urls per a batch. \n",
    "- To error-check in the middle of batches"
   ]
  },
  {
   "cell_type": "code",
   "execution_count": 14,
   "metadata": {},
   "outputs": [],
   "source": [
    "#  Make batches for preventing overheating of my Macbook.\n",
    "\n",
    "#  Make batches with range function\n",
    "batches = [range(40000,40005), range(40005,40011), range(82491,82495)] # set your own. this is only for testing"
   ]
  },
  {
   "cell_type": "markdown",
   "metadata": {},
   "source": [
    "## STEP3. Iterate, Crawl, and directly write the collected infos to csv file."
   ]
  },
  {
   "cell_type": "code",
   "execution_count": 15,
   "metadata": {},
   "outputs": [
    {
     "name": "stdout",
     "output_type": "stream",
     "text": [
      "no contents at 40009th page.\n"
     ]
    }
   ],
   "source": [
    "# Open CSV, CSV WRITER\n",
    "import csv\n",
    "f = open('kopas_score_review_dataset_{}.csv'.format(0), 'w', encoding='utf-8', newline='')\n",
    "wr = csv.writer(f)\n",
    "\n",
    "# Iterate on websites of each lecture number in klue.kr\n",
    "for i in batches[1]:\n",
    "        lec_url = 'http://klue.kr/lecture/{}'.format(i)\n",
    "        driver.get(lec_url)\n",
    "        driver.implicitly_wait(4)\n",
    "        \n",
    "        # record lec_num in url\n",
    "        lec_num = i\n",
    "        \n",
    "        # get html text and parse\n",
    "        html = driver.page_source # get whole html text\n",
    "        soup = bs4.BeautifulSoup(html)\n",
    "        review_boxes_list = soup.find_all('div', {'class':'lecture-detail-content'})\n",
    "            \n",
    "        # If there are none of review-score box => go on to next in loop ex).http://klue.kr/lecture/42600)\n",
    "        if len(review_boxes_list) == 0 : \n",
    "            print('no contents at {}th page.'.format(lec_num))\n",
    "            continue\n",
    "            \n",
    "        # If there are at least one or more of review - score box go on in this loop\n",
    "        else :\n",
    "            \n",
    "            for i in review_boxes_list:\n",
    "\n",
    "                    # Review text attained\n",
    "                rev_str = i.find('div', {'class':'lecture-eval-content-context'}).text # 리뷰 텍스트 추출\n",
    "    \n",
    "                    # 5 Areas Scores list\n",
    "                five_area_scores = [] \n",
    "                htmls_for_five_scores = (i.find_all('div', {'class':'slider-klue-outer'}))[1:6]\n",
    "    \n",
    "                    # Get the 5 scores values and append it to scores_for_five_areas\n",
    "                for i in htmls_for_five_scores :\n",
    "\n",
    "                    string = i.get('style')\n",
    "                    lst = string.split(';')\n",
    "                    the_string = lst[1]\n",
    "\n",
    "                    if the_string.endswith('%'):  # In case the score is written like 100% 80%\n",
    "\n",
    "                        int_score = int(the_string[-4:-1:1])//20\n",
    "                        five_area_scores.append(int_score)\n",
    "\n",
    "                    else:  # Incase it's written like 104px, 130px.\n",
    "\n",
    "                        int_score = int(the_string[-5:-2:1])//26\n",
    "                        five_area_scores.append(int_score)\n",
    "                        \n",
    "                # We just collected review string and 5 scores list, write it into csv file for this batch.\n",
    "                wr.writerow([lec_num, five_area_scores, rev_str])\n",
    "\n",
    "\n",
    "# Close CSV file.\n",
    "f.close()\n"
   ]
  },
  {
   "cell_type": "markdown",
   "metadata": {},
   "source": [
    "# Done ! collected all 5types of review scores with corresponding review text."
   ]
  },
  {
   "cell_type": "markdown",
   "metadata": {},
   "source": [
    "<img src=\"Screen%20Shot%202019-06-11%20at%2011.25.26%20AM.png\">"
   ]
  },
  {
   "cell_type": "code",
   "execution_count": null,
   "metadata": {},
   "outputs": [],
   "source": []
  }
 ],
 "metadata": {
  "kernelspec": {
   "display_name": "Python 3",
   "language": "python",
   "name": "python3"
  },
  "language_info": {
   "codemirror_mode": {
    "name": "ipython",
    "version": 3
   },
   "file_extension": ".py",
   "mimetype": "text/x-python",
   "name": "python",
   "nbconvert_exporter": "python",
   "pygments_lexer": "ipython3",
   "version": "3.7.1"
  }
 },
 "nbformat": 4,
 "nbformat_minor": 2
}
