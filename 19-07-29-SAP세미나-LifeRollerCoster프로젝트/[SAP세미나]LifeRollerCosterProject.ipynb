{
 "cells": [
  {
   "cell_type": "markdown",
   "metadata": {},
   "source": [
    "# SAP 앱하우저팀 세미나 : Project 'Life Rollercoster'"
   ]
  },
  {
   "cell_type": "markdown",
   "metadata": {},
   "source": [
    "SAP 인턴 Yu Jin Lee 님의<br>\n",
    "데이터 처리 및 visuallization을 도와<br>\n",
    "독일계 앱 및 소프트웨어 솔루션 개발 회사 내의 AppHauser팀의<br> \n",
    "'연도별 팀원별 행복지수 그래프' 발표를 돕게 되었습니다."
   ]
  },
  {
   "cell_type": "markdown",
   "metadata": {},
   "source": [
    "# 1. 데이터 추출 및 필요한 데이터 선별"
   ]
  },
  {
   "cell_type": "code",
   "execution_count": null,
   "metadata": {},
   "outputs": [],
   "source": [
    "# 1). 필요한 모듈 임포트\n",
    "\n",
    "import plotly as py\n",
    "import plotly.offline as pyo\n",
    "import plotly.graph_objects as go\n",
    "import ipywidgets as widgets\n",
    "import numpy as np\n",
    "import scipy as special\n",
    "from scipy import special\n",
    "import math"
   ]
  },
  {
   "cell_type": "code",
   "execution_count": null,
   "metadata": {},
   "outputs": [],
   "source": [
    "# 2). pandas로 데이터 불러오기\n",
    "\n",
    "import pandas as pd\n",
    "csv = pd.read_csv('lifegraph.csv')\n",
    "csv = csv.iloc[0:10]\n",
    "\n",
    "csv"
   ]
  },
  {
   "cell_type": "code",
   "execution_count": null,
   "metadata": {},
   "outputs": [],
   "source": [
    "# 3). 필요한 데이터 추려서 변수에 저장.\n",
    "\n",
    "# 1 columns\n",
    "names = []\n",
    "# the rest 50 columns\n",
    "years = []\n",
    "scores = []\n",
    "\n",
    "\n",
    "for i in range(len(csv)):\n",
    "    row = csv.iloc[i]\n",
    "    name = row['Unnamed: 0']\n",
    "    year = [y for y in csv.columns if y != 'Unnamed: 0']\n",
    "    score = [float(row[y]) for y in year]\n",
    "    if type(name) is str:\n",
    "        names.append(name)\n",
    "        years.append(year)\n",
    "        scores.append(score)"
   ]
  },
  {
   "cell_type": "markdown",
   "metadata": {},
   "source": [
    "# 2. 상관관계 최고, 최저인 사람을 계산하는 함수 설계"
   ]
  },
  {
   "cell_type": "code",
   "execution_count": null,
   "metadata": {},
   "outputs": [],
   "source": [
    "def highest_corr(person: str) -> list:\n",
    "    '''\n",
    "    input : 사람이름\n",
    "    output : [제일 높은 상관계수를 가지는 사람, 제일 낮은 상관계수를 가지는 사람]\n",
    "    동일한 시점에 둘다 nan이 아닌 경우의 값들만 연대기순으로 추려서 피어슨 상관계수 계산 후 최고 최저의 사람을 리턴.\n",
    "    '''\n",
    "    \n",
    "    # 타겟 person의 인덱스 조사\n",
    "    target = person\n",
    "    p_index = [x for x,y in enumerate(names) if y == target][0]\n",
    "    \n",
    "    # 타겟 person의 스코어 저장\n",
    "    target_scores = scores[p_index]\n",
    "    \n",
    "    # 타겟 person과의 상관계수를 이름에 맵핑해 저장할 빈 사전 생성.\n",
    "    corr_dict = dict() \n",
    "    \n",
    "    # names 에 이름 하나마다 상관계수를 조사하여 위 corr_dict에 키: 이름, 값: 상관계수 값으로 저장\n",
    "    for name in names :\n",
    "        if name != target:\n",
    "            \n",
    "            # get compare's index\n",
    "            compare_index = [x for x,y in enumerate(names) if y == name][0]\n",
    "            \n",
    "            # p_index, compare_index\n",
    "            p_score = scores[p_index]\n",
    "            compare_score = scores[compare_index]\n",
    "            \n",
    "            # leave the element of index in which two do not have nan\n",
    "            p_score_2 = []\n",
    "            compare_score_2 = []\n",
    "            \n",
    "            for i in range(len(p_score)): \n",
    "                \n",
    "                # 둘다 nan이 아닌경우의 인덱스 값 저장\n",
    "                if (not(math.isnan(float(p_score[i])))) and (not(math.isnan(float(compare_score[i])))):\n",
    "                    \n",
    "                    p_score_2.append(p_score[i])\n",
    "                    compare_score_2.append(compare_score[i])\n",
    "                    \n",
    "            \n",
    "            # nan 아닐 경우의 스코어들만 추려낸 리스트 a,b 형성\n",
    "            a = np.array(p_score_2)\n",
    "            b = np.array(compare_score_2)\n",
    "            \n",
    "            # a,b의 상관계수 계산\n",
    "            corr = np.corrcoef(a,b)[0][1]\n",
    "                \n",
    "            # 루프를 통해 들어온 이름을 키값, 위에서 계산된 상관계수를 맵핑된 값으로 사전에 저장.\n",
    "            corr_dict[name] = corr\n",
    "            \n",
    "    \n",
    "    # corr dict에서 상관계수 제일 높은 요소와 낮은 요소를 리스트 1번째, 2번째 요소로 추출해서 그 리스트를 리턴\n",
    "    return [ sorted([(x,y) for x,y in corr_dict.items()], key = lambda x: x[1], reverse = True)[0][0], sorted([(x,y) for x,y in corr_dict.items()], key = lambda x: x[1])[0][0] ]"
   ]
  },
  {
   "cell_type": "code",
   "execution_count": null,
   "metadata": {},
   "outputs": [],
   "source": [
    "# 2). Test function highest_corr\n",
    "\n",
    "highest_corr('Yujin')"
   ]
  },
  {
   "cell_type": "markdown",
   "metadata": {},
   "source": [
    "# 3. [SAP APPHAUSER]의 인생곡선 인터렉티브 플랏(plotly)"
   ]
  },
  {
   "cell_type": "code",
   "execution_count": null,
   "metadata": {},
   "outputs": [],
   "source": [
    "# 1). 레이아웃 결정 \n",
    "layout = go.Layout(\n",
    "    title = 'Life Rollercoster',\n",
    "    yaxis = dict(title = 'happiness level'),\n",
    "    xaxis = dict(title = 'year')\n",
    "    )\n",
    "\n",
    "# 2). 업데이트 함수 설계\n",
    "def update_plot(persons):\n",
    "    \n",
    "    data = []\n",
    "    \n",
    "    # 다중 선택 위젯을 통해 입력된 persons 리스트에 대하여 각 사람에 대해 다음을 반복\n",
    "    for p in persons:\n",
    "        \n",
    "        \n",
    "        # 1). 해당 사람의 인덱스 검색\n",
    "        p_index = [x for x,y in enumerate(names) if y == p][0]\n",
    "        \n",
    "        # 2). 해당 사람의 년도, 행복지수 플롯 \n",
    "        trace1 = go.Scatter(\n",
    "        x = years[p_index],\n",
    "        y = scores[p_index],\n",
    "        mode = 'lines',\n",
    "        name = '{}'.format(p),\n",
    "        line = dict(shape = 'spline')\n",
    "                            )\n",
    "        \n",
    "        data.append(trace1)\n",
    "        \n",
    "        # 3). 해당 사람의 행복지수 최저 및 최고 year => dot plot => 한자로 '上'，‘下’ 표시.\n",
    "        \n",
    "        #     <1>. 해당 사람의 연도와 행복점수 저장\n",
    "        p_years = years[p_index]\n",
    "        p_scores = scores[p_index]\n",
    "        \n",
    "        med = np.nanmedian(np.array(p_scores))\n",
    "        \n",
    "        #     <2>. nan값들 무시하고, max & min 값을 가지는 인덱스들 추출\n",
    "        p_scores = [med if math.isnan(float(i)) else i for i in p_scores]\n",
    "        max_ind = [ind for ind, sco in enumerate(scores[p_index]) if sco == max(p_scores)]\n",
    "        min_ind = [ind for ind, sco in enumerate(scores[p_index]) if sco == min(p_scores)]\n",
    "        \n",
    "        #     <3>. 위 인덱스를 통해 행복점수 최저인 년도와 스코어 추출 \n",
    "        min_year = [p_years[i] for i in min_ind]\n",
    "        min_score = [scores[p_index][i] for i in min_ind]\n",
    "        \n",
    "        #     <4>. 위 인덱스를 통해 행복점수 최고인 년도와 스코어 추출\n",
    "        max_year = [p_years[i] for i in max_ind]\n",
    "        max_score = [scores[p_index][i] for i in max_ind]\n",
    "        \n",
    "        #     <5>. 최고, 최저인 년도와 행복 스코어를 dot plot 하기\n",
    "        #\n",
    "        trace2 = go.Scatter(\n",
    "        x= min_year,\n",
    "        y= min_score,\n",
    "        mode = \"markers+text\",\n",
    "        name = \"{} 인생의 암흑기\".format(p),\n",
    "        text = '下',\n",
    "        textposition=\"bottom center\"\n",
    "        )\n",
    "        data.append(trace2)\n",
    "        #\n",
    "        trace3 = go.Scatter(\n",
    "        x= max_year,\n",
    "        y= max_score,\n",
    "        mode = \"markers+text\",\n",
    "        name = \"{} 인생의 전성기\".format(p),\n",
    "        text = \"上\",\n",
    "        textposition=\"bottom center\"\n",
    "        )\n",
    "        data.append(trace3)\n",
    "        \n",
    "    # 만약 위젯으로 선택된 사람이 1명일 경우시, 해당 사람의 시간에 따른 행복점수 스코어와 상관관계가 제일 높은 사람과 낮은 사람 프린트\n",
    "    if len(persons) == 1:    \n",
    "        print(\"\\n{}의 인생은 {}와 유사하게 흘렀고, {}와 완전 딴 판입니다.\".format(p, highest_corr(p)[0],highest_corr(p)[1]))\n",
    "    \n",
    "    # 위에서 data에 모아놓은 플랏들 표시\n",
    "    fig = go.Figure(data = data, layout = layout)\n",
    "    py.offline.iplot(fig)\n",
    "\n",
    "\n",
    "# 3). 인풋을 다중 선택 위젯으로 결정후, 함수 update_plot에 넣는다.\n",
    "persons = widgets.SelectMultiple(options = names, description = \"Bessel Order\")\n",
    "widgets.interactive(update_plot, persons = persons)"
   ]
  },
  {
   "cell_type": "markdown",
   "metadata": {},
   "source": [
    "--------"
   ]
  },
  {
   "cell_type": "markdown",
   "metadata": {},
   "source": [
    "# Epilogue"
   ]
  },
  {
   "cell_type": "markdown",
   "metadata": {},
   "source": [
    "## 4. 배운 점"
   ]
  },
  {
   "cell_type": "markdown",
   "metadata": {},
   "source": [
    "### 1. Matplotlib에 비해 Plotly로 분석시 더 좋다. 각 포인트의 좌표 및 정보가 나와, 데이터 탐색시 용이할 뿐만 아니라, 인터렉티브하게 플랏을 구성하여 경우의 수를 조정해가며 원하는 것만 또는 원하는 조합대로 볼 수 있다.\n",
    "### 2. 단순한 커스텀 시각화보다, 시각화를 인터렉티브하게 구성하면, 그 컨텐츠를 사용하는 사람이 더 즐길 수 있다. \n",
    "* ex). 자신의 인생그래프와 (자기가 관심을 가지고 있는) 다른 사람과의 인생그래프를 비교하거나, 상관관계를 조회할 수 있다."
   ]
  }
 ],
 "metadata": {
  "kernelspec": {
   "display_name": "Python 3",
   "language": "python",
   "name": "python3"
  },
  "language_info": {
   "codemirror_mode": {
    "name": "ipython",
    "version": 3
   },
   "file_extension": ".py",
   "mimetype": "text/x-python",
   "name": "python",
   "nbconvert_exporter": "python",
   "pygments_lexer": "ipython3",
   "version": "3.7.1"
  }
 },
 "nbformat": 4,
 "nbformat_minor": 2
}
